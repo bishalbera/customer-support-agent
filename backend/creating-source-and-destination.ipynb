{
 "cells": [
  {
   "cell_type": "code",
   "execution_count": null,
   "metadata": {},
   "outputs": [],
   "source": [
    "\n",
    "from dotenv import load_dotenv\n",
    "\n",
    "load_dotenv()\n",
    "\n",
    "import requests\n",
    "\n",
    "AIRBYTE_OSS_BASE_URL='http://localhost:8000/api/public/v1/'\n"
   ]
  },
  {
   "cell_type": "code",
   "execution_count": null,
   "metadata": {},
   "outputs": [],
   "source": [
    "import os\n",
    "\n",
    "url = \"sources\"\n",
    "\n",
    "\n",
    "def create_source(url:str, payload: dict, headers: dict):\n",
    "     res = requests.post(url, json=payload, headers=headers)\n",
    "     return res\n",
    "\n",
    "payload = {\n",
    "    \"configuration\": {\n",
    "        \"sourceType\": \"postgres\",\n",
    "        \"host\": os.environ[\"DB_HOST\"],\n",
    "        \"port\": int(os.environ[\"DB_PORT\"]),\n",
    "        \"database\":  os.environ[\"DB_NAME\"],\n",
    "        \"username\":  os.environ[\"DB_USER\"],\n",
    "        \"password\":  os.environ[\"DB_PASSWORD\"],\n",
    "        \"ssl_mode\": { \"mode\": \"require\" }\n",
    "    },\n",
    "    \"name\": \"pg-source\",\n",
    "    \"workspaceId\": os.environ[\"WORKSPACE_ID\"]\n",
    "}\n",
    "access_token = os.environ[\"ACCESS_TOKEN\"]\n",
    "headers = {\n",
    "    \"accept\": \"application/json\",\n",
    "    \"content-type\": \"application/json\",\n",
    "    \"authorization\": f\"Bearer {access_token}\"\n",
    "    }\n",
    "\n",
    "res = create_source(url=AIRBYTE_OSS_BASE_URL+url, payload=payload, headers=headers)\n",
    "print(res.text)\n",
    "\n",
    "# response = requests.post(url, json=payload, headers=headers)\n",
    "\n",
    "# print(response.text)"
   ]
  },
  {
   "cell_type": "code",
   "execution_count": null,
   "metadata": {},
   "outputs": [],
   "source": [
    "import requests\n",
    "\n",
    "\n",
    "url = \"destinations\"\n",
    "\n",
    "\n",
    "def create_destinations(url:str, payload: dict, headers: dict):\n",
    "     res = requests.post(url, json=payload, headers=headers)\n",
    "     return res\n",
    "\n",
    "payload = {\n",
    "    \"configuration\": {\n",
    "        \"destinationType\": \"postgres\",\n",
    "        \"host\": os.environ[\"DEST_HOST\"],\n",
    "        \"port\": 5432,\n",
    "        \"database\": os.environ[\"DEST_DB\"],\n",
    "        \"schema\": \"public\",\n",
    "        \"username\": os.environ[\"DEST_USERNAME\"],\n",
    "        \"password\": os.environ[\"DEST_PASS\"]\n",
    "    },\n",
    "    \"name\": \"dest-db\",\n",
    "    \"workspaceId\": os.environ[\"WORKSPACE_ID\"]\n",
    "}\n",
    "\n",
    "access_token = os.environ[\"ACCESS_TOKEN\"]\n",
    "headers = {\n",
    "    \"accept\": \"application/json\",\n",
    "    \"content-type\": \"application/json\",\n",
    "    \"authorization\": f\"Bearer {access_token}\" \n",
    "}\n",
    "\n",
    "res = create_destinations(url=AIRBYTE_OSS_BASE_URL+url, payload=payload, headers=headers)\n",
    "print(res.text)"
   ]
  },
  {
   "cell_type": "code",
   "execution_count": null,
   "metadata": {},
   "outputs": [],
   "source": []
  }
 ],
 "metadata": {
  "kernelspec": {
   "display_name": "venv",
   "language": "python",
   "name": "python3"
  },
  "language_info": {
   "codemirror_mode": {
    "name": "ipython",
    "version": 3
   },
   "file_extension": ".py",
   "mimetype": "text/x-python",
   "name": "python",
   "nbconvert_exporter": "python",
   "pygments_lexer": "ipython3",
   "version": "3.13.1"
  }
 },
 "nbformat": 4,
 "nbformat_minor": 2
}
