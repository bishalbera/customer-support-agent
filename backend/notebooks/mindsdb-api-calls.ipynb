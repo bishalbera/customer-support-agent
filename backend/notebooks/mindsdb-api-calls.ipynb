{
 "cells": [
  {
   "cell_type": "code",
   "execution_count": 1,
   "metadata": {},
   "outputs": [],
   "source": [
    "from dotenv import load_dotenv\n",
    "import requests\n",
    "import os\n",
    "load_dotenv()\n",
    "\n",
    "MINDSDB_URL = 'http://127.0.0.1:47334/api/sql/query'\n"
   ]
  },
  {
   "cell_type": "code",
   "execution_count": 2,
   "metadata": {},
   "outputs": [],
   "source": [
    "def mindsdb_query(url, sql_query):\n",
    "    headers = {\"Content-Type\": \"application/json\"}\n",
    "    return requests.post(headers=headers, json={\"query\": sql_query}, url= url)"
   ]
  },
  {
   "cell_type": "code",
   "execution_count": null,
   "metadata": {},
   "outputs": [],
   "source": [
    "def create_db(url:str, payload:dict, headers: dict):\n",
    "    return requests.post(url=url, json=payload, headers=headers)\n"
   ]
  },
  {
   "cell_type": "code",
   "execution_count": null,
   "metadata": {},
   "outputs": [],
   "source": [
    "url = \"http://127.0.0.1:47334/api/databases\"\n",
    "\n",
    "payload = {\"database\": {\n",
    "        \"name\": \"redshift_datasource\",\n",
    "        \"engine\": \"redshift\",\n",
    "        \"parameters\": {\n",
    "            \"user\": os.environ[\"DEST_USERNAME\"],\n",
    "            \"password\": os.environ[\"DEST_PASS\"],\n",
    "            \"host\": os.environ[\"DEST_HOST\"],\n",
    "            \"port\": 5439,\n",
    "            \"database\": os.environ[\"DEST_DB\"]\n",
    "        }\n",
    "    }}\n",
    "headers = {\"Content-Type\": \"application/json\"}\n",
    "\n",
    "res = create_db(url=url, payload=payload, headers=headers)\n",
    "\n",
    "print(res.text)"
   ]
  },
  {
   "cell_type": "code",
   "execution_count": null,
   "metadata": {},
   "outputs": [],
   "source": [
    "API_KEY= os.environ[\"GEMINI_API_KEY\"]\n",
    "\n",
    "sql_query = f\"\"\"\n",
    "CREATE ML_ENGINE google_gemini_engine\n",
    "FROM google_gemini\n",
    "USING\n",
    "      api_key = {API_KEY};\n",
    "\"\"\"\n",
    "\n",
    "mindsdb_query(url=MINDSDB_URL, sql_query=sql_query)"
   ]
  },
  {
   "cell_type": "code",
   "execution_count": null,
   "metadata": {},
   "outputs": [],
   "source": [
    "sql_query = f\"\"\"\n",
    "CREATE MODEL flight_assistant\n",
    "PREDICT answer\n",
    "USING\n",
    "    engine = 'google_gemini_engine',\n",
    "    model_name = 'gemini-2.0-flash',\n",
    "    mode = 'conversational',\n",
    "    user_column = 'question',\n",
    "    assistant_column = 'answer',\n",
    "    prompt_template = 'You are a specialized assistant for handling flight updates.\n",
    "    The primary assistant delegates work to you whenever the user needs help updating their bookings.\n",
    "    Confirm the updated flight details with the customer and inform them of any additional fees.\n",
    "    When searching, be persistent. Expand your query bounds if the first search returns no results. ';\n",
    "\"\"\"\n",
    "\n",
    "mindsdb_query(url=MINDSDB_URL, sql_query=sql_query)"
   ]
  },
  {
   "cell_type": "code",
   "execution_count": null,
   "metadata": {},
   "outputs": [],
   "source": [
    "sql_query = f\"\"\"\n",
    "CREATE SKILL flight_assistant_skill\n",
    "USING\n",
    "    type = 'text2sql',\n",
    "    database = 'redshift_datasource',\n",
    "    tables = ['flights','ticket_flights', 'tickets', 'boarding_passes']\n",
    "\"\"\"\n",
    "mindsdb_query(url=MINDSDB_URL, sql_query=sql_query)"
   ]
  },
  {
   "cell_type": "code",
   "execution_count": null,
   "metadata": {},
   "outputs": [],
   "source": [
    "sql_query = f\"\"\"\n",
    "CREATE AGENT flight_agent\n",
    "USING\n",
    "    model = 'flight_assistant',\n",
    "    skills = ['flight_assistant_skill'];\n",
    "\"\"\"\n",
    "mindsdb_query(url=MINDSDB_URL,sql_query=sql_query)"
   ]
  },
  {
   "cell_type": "code",
   "execution_count": null,
   "metadata": {},
   "outputs": [
    {
     "name": "stdout",
     "output_type": "stream",
     "text": [
      "{\"type\": \"table\", \"data\": [[\"Hi there, my passenger_id is 2883 989356.get details of any upcoming flights and cancel the ticket. Tell me what tools you used to get and perform this tasks.\", \"I found one ticket number '9880005432000994' associated with your passenger ID. However, there are no upcoming flights associated with this ticket. To proceed with the cancellation, I need your confirmation. Also, please note that depending on the ticket conditions, a cancellation fee may apply.\\n```\"]], \"column_names\": [\"question\", \"answer\"], \"context\": {\"show_secrets\": false, \"db\": \"mindsdb\"}}\n"
     ]
    }
   ],
   "source": [
    "\n",
    "\n",
    "sql_query = f\"\"\"\n",
    "CREATE MODEL flight_assistant\n",
    "    PREDICT answer\n",
    "    USING\n",
    "        engine = 'langchain_engine',\n",
    "        model_name = 'google_gemini_model',\n",
    "        provider = 'mindsdb',\n",
    "        mode = 'conversational',\n",
    "        user_column = 'question',\n",
    "        assistant_column = 'answer',\n",
    "        verbose = 'true',\n",
    "        prompt_template = \"You are a helpful and intelligent customer support assistant for a travel agency, focused on FLIGHT-related issues.\n",
    "        Your task is to understand the user's questions and resolve them using available tools.\n",
    "\n",
    "        Whenever you're handling sensitive operations (like cancellations or rebookings), ask the user for confirmation before proceeding.\n",
    "\n",
    "        When a tool requires parameters, extract those from the user’s input. For example, if the user says 'Show my flights,' extract the passenger ID and call `fetch_user_flight_info` with it.\n",
    "\n",
    "        Be persistent. If one query returns no results, expand your search before giving up. If you don’t understand something, ask the user for clarification.\n",
    "\n",
    "        {{question}}\";\n",
    "\"\"\"\n",
    "\n",
    "sql_query_2=f\"\"\"\n",
    "SELECT question,answer\n",
    "FROM flight_agent\n",
    "WHERE question = 'Hi there, my passenger_id is 2883 989356.get details of any upcoming flights and cancel the ticket. Tell me what tools you used to get and perform this tasks.'\n",
    "USING\n",
    "   tools = [\n",
    "   'fetch_user_flight_info',\n",
    "   'search_flights',\n",
    "   'update_ticket_to_new_flight',\n",
    "   'cancel_ticket'\n",
    "   ]\n",
    "\"\"\"\n",
    "res=mindsdb_query(url=MINDSDB_URL, sql_query=sql_query_2)\n",
    "print(res.text)\n",
    "# json_data = json.loads(res.text)\n",
    "# data = json_data.get(\"data\",[])\n",
    "# print(data)"
   ]
  },
  {
   "cell_type": "code",
   "execution_count": 4,
   "metadata": {},
   "outputs": [
    {
     "name": "stdout",
     "output_type": "stream",
     "text": [
      "{\"type\": \"table\", \"data\": [[\"car_rental_assistant\", \"langchain\", \"mindsdb\", true, 1, \"generating\", null, \"answer\", \"up_to_date\", \"25.4.1.0\", null, null, \"{'__mdb_sql_task': None, 'target': 'answer', 'using': {'model_name': 'google_gemini_model', 'provider': 'mindsdb', 'mode': 'conversational', 'user_column': 'question', 'assistant_column': 'answer', 'verbose': 'true', 'prompt_template': \\\"You are a specialized assistant for handling car rental bookings.\\\\n            The primary assistant delegates work to you whenever the user needs help booking a car rental.\\\\n            Search for available car rentals based on the user's preferences and confirm the booking details with the customer.\\\\n            When searching, be persistent. Expand your query bounds if the first search returns no results.Return the results in a beautiful human redable format.\\\\n\\\\n        {question}\\\"}}\", null]], \"column_names\": [\"NAME\", \"ENGINE\", \"PROJECT\", \"ACTIVE\", \"VERSION\", \"STATUS\", \"ACCURACY\", \"PREDICT\", \"UPDATE_STATUS\", \"MINDSDB_VERSION\", \"ERROR\", \"SELECT_DATA_QUERY\", \"TRAINING_OPTIONS\", \"TAG\"], \"context\": {\"show_secrets\": false, \"db\": \"mindsdb\"}}\n"
     ]
    }
   ],
   "source": [
    "sql_query = f\"\"\"\n",
    "CREATE MODEL car_rental_assistant\n",
    "PREDICT answer\n",
    "    USING\n",
    "        engine = 'langchain_engine',\n",
    "        model_name = 'google_gemini_model',\n",
    "        provider = 'mindsdb',\n",
    "        mode = 'conversational',\n",
    "        user_column = 'question',\n",
    "        assistant_column = 'answer',\n",
    "        verbose = 'true',\n",
    "        prompt_template = \"You are a specialized assistant for handling car rental bookings.\n",
    "            The primary assistant delegates work to you whenever the user needs help booking a car rental.\n",
    "            Search for available car rentals based on the user's preferences and confirm the booking details with the customer.\n",
    "            When searching, be persistent. Expand your query bounds if the first search returns no results.Return the results in a beautiful human redable format.\n",
    "\n",
    "        {{question}}\";\n",
    "\"\"\"\n",
    "\n",
    "res = mindsdb_query(url=MINDSDB_URL, sql_query=sql_query)\n",
    "print(res.text)"
   ]
  },
  {
   "cell_type": "code",
   "execution_count": 4,
   "metadata": {},
   "outputs": [
    {
     "name": "stdout",
     "output_type": "stream",
     "text": [
      "{\"type\": \"ok\", \"context\": {\"show_secrets\": false, \"db\": \"mindsdb\"}}\n"
     ]
    }
   ],
   "source": [
    "sql_query = f\"\"\"\n",
    "\n",
    "CREATE SKILL car_rental_assistant_skill\n",
    "USING\n",
    "    type = 'text2sql',\n",
    "    database = 'redshift_datasource',\n",
    "    tables = ['car_rentals']\n",
    "\"\"\"\n",
    "res = mindsdb_query(url=MINDSDB_URL, sql_query=sql_query)\n",
    "print(res.text)"
   ]
  },
  {
   "cell_type": "code",
   "execution_count": 5,
   "metadata": {},
   "outputs": [
    {
     "name": "stdout",
     "output_type": "stream",
     "text": [
      "{\"type\": \"ok\", \"context\": {\"show_secrets\": false, \"db\": \"mindsdb\"}}\n"
     ]
    }
   ],
   "source": [
    "sql_query = f\"\"\"\n",
    "\n",
    "CREATE AGENT car_rental_agent\n",
    "USING\n",
    "    model = 'car_rental_assistant',\n",
    "    skills = ['car_rental_assistant_skill'];\n",
    "\"\"\"\n",
    "res = mindsdb_query(url=MINDSDB_URL, sql_query=sql_query)\n",
    "print(res.text)"
   ]
  },
  {
   "cell_type": "code",
   "execution_count": null,
   "metadata": {},
   "outputs": [],
   "source": []
  }
 ],
 "metadata": {
  "kernelspec": {
   "display_name": "venv",
   "language": "python",
   "name": "python3"
  },
  "language_info": {
   "codemirror_mode": {
    "name": "ipython",
    "version": 3
   },
   "file_extension": ".py",
   "mimetype": "text/x-python",
   "name": "python",
   "nbconvert_exporter": "python",
   "pygments_lexer": "ipython3",
   "version": "3.13.1"
  }
 },
 "nbformat": 4,
 "nbformat_minor": 2
}
