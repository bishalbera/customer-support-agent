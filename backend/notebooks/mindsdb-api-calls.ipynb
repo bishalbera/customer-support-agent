{
 "cells": [
  {
   "cell_type": "code",
   "execution_count": 3,
   "metadata": {},
   "outputs": [],
   "source": [
    "from dotenv import load_dotenv\n",
    "import requests\n",
    "import os\n",
    "load_dotenv()\n",
    "\n",
    "MINDSDB_URL = 'http://127.0.0.1:47334/api/sql/query'\n"
   ]
  },
  {
   "cell_type": "code",
   "execution_count": null,
   "metadata": {},
   "outputs": [],
   "source": [
    "def mindsdb_query(url, sql_query):\n",
    "    headers = {\"Content-Type\": \"application/json\"}\n",
    "    return requests.post(headers=headers, json={\"query\": sql_query}, url= url)"
   ]
  },
  {
   "cell_type": "code",
   "execution_count": null,
   "metadata": {},
   "outputs": [],
   "source": [
    "def create_db(url:str, payload:dict, headers: dict):\n",
    "    return requests.post(url=url, json=payload, headers=headers)\n"
   ]
  },
  {
   "cell_type": "code",
   "execution_count": null,
   "metadata": {},
   "outputs": [],
   "source": [
    "url = \"http://127.0.0.1:47334/api/databases\"\n",
    "\n",
    "payload = {\"database\": {\n",
    "        \"name\": \"redshift_datasource\",\n",
    "        \"engine\": \"redshift\",\n",
    "        \"parameters\": {\n",
    "            \"user\": os.environ[\"DEST_USERNAME\"],\n",
    "            \"password\": os.environ[\"DEST_PASS\"],\n",
    "            \"host\": os.environ[\"DEST_HOST\"],\n",
    "            \"port\": 5439,\n",
    "            \"database\": os.environ[\"DEST_DB\"]\n",
    "        }\n",
    "    }}\n",
    "headers = {\"Content-Type\": \"application/json\"}\n",
    "\n",
    "res = create_db(url=url, payload=payload, headers=headers)\n",
    "\n",
    "print(res.text)"
   ]
  },
  {
   "cell_type": "code",
   "execution_count": null,
   "metadata": {},
   "outputs": [],
   "source": [
    "API_KEY= os.environ[\"GEMINI_API_KEY\"]\n",
    "\n",
    "sql_query = f\"\"\"\n",
    "CREATE ML_ENGINE google_gemini_engine\n",
    "FROM google_gemini\n",
    "USING\n",
    "      api_key = {API_KEY};\n",
    "\"\"\"\n",
    "\n",
    "mindsdb_query(url=MINDSDB_URL, sql_query=sql_query)"
   ]
  },
  {
   "cell_type": "code",
   "execution_count": null,
   "metadata": {},
   "outputs": [],
   "source": [
    "sql_query = f\"\"\"\n",
    "CREATE MODEL flight_assistant\n",
    "PREDICT answer\n",
    "USING\n",
    "    engine = 'google_gemini_engine',\n",
    "    model_name = 'gemini-2.0-flash',\n",
    "    mode = 'conversational',\n",
    "    user_column = 'question',\n",
    "    assistant_column = 'answer',\n",
    "    prompt_template = 'You are a specialized assistant for handling flight updates.\n",
    "    The primary assistant delegates work to you whenever the user needs help updating their bookings.\n",
    "    Confirm the updated flight details with the customer and inform them of any additional fees.\n",
    "    When searching, be persistent. Expand your query bounds if the first search returns no results. ';\n",
    "\"\"\"\n",
    "\n",
    "mindsdb_query(url=MINDSDB_URL, sql_query=sql_query)"
   ]
  },
  {
   "cell_type": "code",
   "execution_count": null,
   "metadata": {},
   "outputs": [],
   "source": [
    "sql_query = f\"\"\"\n",
    "CREATE SKILL flight_assistant_skill\n",
    "USING\n",
    "    type = 'text2sql',\n",
    "    database = 'redshift_datasource',\n",
    "    tables = ['flights','ticket_flights', 'tickets', 'boarding_passes']\n",
    "\"\"\"\n",
    "mindsdb_query(url=MINDSDB_URL, sql_query=sql_query)"
   ]
  },
  {
   "cell_type": "code",
   "execution_count": null,
   "metadata": {},
   "outputs": [],
   "source": [
    "sql_query = f\"\"\"\n",
    "CREATE AGENT flight_agent\n",
    "USING\n",
    "    model = 'flight_assistant',\n",
    "    skills = ['flight_assistant_skill'];\n",
    "\"\"\"\n",
    "mindsdb_query(url=MINDSDB_URL,sql_query=sql_query)"
   ]
  },
  {
   "cell_type": "code",
   "execution_count": null,
   "metadata": {},
   "outputs": [],
   "source": [
    "\n",
    "\n",
    "sql_query = f\"\"\"\n",
    "CREATE MODEL flight_assistant\n",
    "    PREDICT answer\n",
    "    USING\n",
    "        engine = 'langchain_engine',\n",
    "        model_name = 'google_gemini_model',\n",
    "        provider = 'mindsdb',\n",
    "        mode = 'conversational',\n",
    "        user_column = 'question',\n",
    "        assistant_column = 'answer',\n",
    "        verbose = 'true',\n",
    "        prompt_template = \"You are a helpful and intelligent customer support assistant for a travel agency, focused on FLIGHT-related issues.\n",
    "        Your task is to understand the user's questions and resolve them using available tools.\n",
    "\n",
    "        Whenever you're handling sensitive operations (like cancellations or rebookings), ask the user for confirmation before proceeding.\n",
    "\n",
    "        When a tool requires parameters, extract those from the user’s input. For example, if the user says 'Show my flights,' extract the passenger ID and call `fetch_user_flight_info` with it.\n",
    "\n",
    "        Be persistent. If one query returns no results, expand your search before giving up. If you don’t understand something, ask the user for clarification.\n",
    "\n",
    "        {{question}}\";\n",
    "\"\"\"\n",
    "\n",
    "sql_query_2=f\"\"\"\n",
    "SELECT question,answer\n",
    "FROM flight_agent\n",
    "WHERE question = 'Hi there, my passenger_id is 2883 989356.get details of any upcoming flights and cancel the ticket. Tell me what tools you used to get and perform this tasks.'\n",
    "USING\n",
    "   tools = [\n",
    "   'fetch_user_flight_info',\n",
    "   'search_flights',\n",
    "   'update_ticket_to_new_flight',\n",
    "   'cancel_ticket'\n",
    "   ]\n",
    "\"\"\"\n",
    "res=mindsdb_query(url=MINDSDB_URL, sql_query=sql_query_2)\n",
    "print(res.text)\n",
    "# json_data = json.loads(res.text)\n",
    "# data = json_data.get(\"data\",[])\n",
    "# print(data)"
   ]
  },
  {
   "cell_type": "code",
   "execution_count": null,
   "metadata": {},
   "outputs": [],
   "source": [
    "sql_query = f\"\"\"\n",
    "CREATE MODEL car_rental_assistant\n",
    "PREDICT answer\n",
    "    USING\n",
    "        engine = 'langchain_engine',\n",
    "        model_name = 'google_gemini_model',\n",
    "        provider = 'mindsdb',\n",
    "        mode = 'conversational',\n",
    "        user_column = 'question',\n",
    "        assistant_column = 'answer',\n",
    "        verbose = 'true',\n",
    "        prompt_template = \"You are a specialized assistant for handling car rental bookings.\n",
    "            The primary assistant delegates work to you whenever the user needs help booking a car rental.\n",
    "            Search for available car rentals based on the user's preferences and confirm the booking details with the customer.\n",
    "            When searching, be persistent. Expand your query bounds if the first search returns no results.Return the results in a beautiful human redable format.\n",
    "\n",
    "        {{question}}\";\n",
    "\"\"\"\n",
    "\n",
    "res = mindsdb_query(url=MINDSDB_URL, sql_query=sql_query)\n",
    "print(res.text)"
   ]
  },
  {
   "cell_type": "code",
   "execution_count": null,
   "metadata": {},
   "outputs": [],
   "source": [
    "sql_query = f\"\"\"\n",
    "\n",
    "CREATE SKILL car_rental_assistant_skill\n",
    "USING\n",
    "    type = 'text2sql',\n",
    "    database = 'redshift_datasource',\n",
    "    tables = ['car_rentals']\n",
    "\"\"\"\n",
    "res = mindsdb_query(url=MINDSDB_URL, sql_query=sql_query)\n",
    "print(res.text)"
   ]
  },
  {
   "cell_type": "code",
   "execution_count": null,
   "metadata": {},
   "outputs": [],
   "source": [
    "sql_query = f\"\"\"\n",
    "\n",
    "CREATE AGENT car_rental_agent\n",
    "USING\n",
    "    model = 'car_rental_assistant',\n",
    "    skills = ['car_rental_assistant_skill'];\n",
    "\"\"\"\n",
    "res = mindsdb_query(url=MINDSDB_URL, sql_query=sql_query)\n",
    "print(res.text)"
   ]
  },
  {
   "cell_type": "code",
   "execution_count": null,
   "metadata": {},
   "outputs": [],
   "source": [
    "sql_query = f\"\"\"\n",
    "CREATE MODEL hotel_assistant\n",
    "PREDICT answer\n",
    "    USING\n",
    "        engine = 'langchain_engine',\n",
    "        model_name = 'google_gemini_model',\n",
    "        provider = 'mindsdb',\n",
    "        mode = 'conversational',\n",
    "        user_column = 'question',\n",
    "        assistant_column = 'answer',\n",
    "        verbose = 'true',\n",
    "        prompt_template = \"You are a specialized assistant for handling hotel reservations.\n",
    "            Search for available hotels based on the user's preferences and confirm the booking details with the customer.\n",
    "            When searching, be persistent. Expand your query bounds if the first search returns no results.Return the results in a beautiful human redable format.\n",
    "\n",
    "        {{question}}\";\n",
    "\"\"\"\n",
    "\n",
    "res = mindsdb_query(url=MINDSDB_URL, sql_query=sql_query)\n",
    "print(res.text)"
   ]
  },
  {
   "cell_type": "code",
   "execution_count": null,
   "metadata": {},
   "outputs": [],
   "source": [
    "sql_query = f\"\"\"\n",
    "\n",
    "CREATE SKILL hotel_assistant_skill\n",
    "USING\n",
    "    type = 'text2sql',\n",
    "    database = 'redshift_datasource',\n",
    "    tables = ['hotels']\n",
    "\"\"\"\n",
    "res = mindsdb_query(url=MINDSDB_URL, sql_query=sql_query)\n",
    "print(res.text)"
   ]
  },
  {
   "cell_type": "code",
   "execution_count": null,
   "metadata": {},
   "outputs": [],
   "source": [
    "sql_query = f\"\"\"\n",
    "\n",
    "CREATE AGENT hotel_agent\n",
    "USING\n",
    "    model = 'hotel_assistant',\n",
    "    skills = ['hotel_assistant_skill'];\n",
    "\"\"\"\n",
    "res = mindsdb_query(url=MINDSDB_URL, sql_query=sql_query)\n",
    "print(res.text)"
   ]
  },
  {
   "cell_type": "code",
   "execution_count": null,
   "metadata": {},
   "outputs": [],
   "source": []
  }
 ],
 "metadata": {
  "kernelspec": {
   "display_name": "3.11.0",
   "language": "python",
   "name": "python3"
  },
  "language_info": {
   "codemirror_mode": {
    "name": "ipython",
    "version": 3
   },
   "file_extension": ".py",
   "mimetype": "text/x-python",
   "name": "python",
   "nbconvert_exporter": "python",
   "pygments_lexer": "ipython3",
   "version": "3.11.0"
  }
 },
 "nbformat": 4,
 "nbformat_minor": 2
}
