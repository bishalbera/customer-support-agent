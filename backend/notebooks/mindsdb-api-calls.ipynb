{
 "cells": [
  {
   "cell_type": "code",
   "execution_count": 1,
   "metadata": {},
   "outputs": [],
   "source": [
    "from dotenv import load_dotenv\n",
    "import requests\n",
    "import os\n",
    "load_dotenv()\n",
    "\n",
    "MINDSDB_URL = 'http://127.0.0.1:47334/api/sql/query'\n"
   ]
  },
  {
   "cell_type": "code",
   "execution_count": 2,
   "metadata": {},
   "outputs": [],
   "source": [
    "def mindsdb_query(url, sql_query):\n",
    "    headers = {\"Content-Type\": \"application/json\"}\n",
    "    return requests.post(headers=headers, json={\"query\": sql_query}, url= url)"
   ]
  },
  {
   "cell_type": "code",
   "execution_count": 3,
   "metadata": {},
   "outputs": [],
   "source": [
    "def create_db(url:str, payload:dict, headers: dict):\n",
    "    return requests.post(url=url, json=payload, headers=headers)\n"
   ]
  },
  {
   "cell_type": "code",
   "execution_count": 5,
   "metadata": {},
   "outputs": [
    {
     "name": "stdout",
     "output_type": "stream",
     "text": [
      "{\"name\": \"redshift_datasource\", \"type\": \"data\", \"engine\": \"redshift\", \"id\": 3}\n"
     ]
    }
   ],
   "source": [
    "url = \"http://127.0.0.1:47334/api/databases\"\n",
    "\n",
    "payload = {\"database\": {\n",
    "        \"name\": \"redshift_datasource\",\n",
    "        \"engine\": \"redshift\",\n",
    "        \"parameters\": {\n",
    "            \"user\": os.environ[\"DEST_USERNAME\"],\n",
    "            \"password\": os.environ[\"DEST_PASS\"],\n",
    "            \"host\": os.environ[\"DEST_HOST\"],\n",
    "            \"port\": 5439,\n",
    "            \"database\": os.environ[\"DEST_DB\"]\n",
    "        }\n",
    "    }}\n",
    "headers = {\"Content-Type\": \"application/json\"}\n",
    "\n",
    "res = create_db(url=url, payload=payload, headers=headers)\n",
    "\n",
    "print(res.text)"
   ]
  },
  {
   "cell_type": "code",
   "execution_count": 4,
   "metadata": {},
   "outputs": [
    {
     "data": {
      "text/plain": [
       "<Response [200]>"
      ]
     },
     "execution_count": 4,
     "metadata": {},
     "output_type": "execute_result"
    }
   ],
   "source": [
    "API_KEY= os.environ[\"GEMINI_API_KEY\"]\n",
    "\n",
    "sql_query = f\"\"\"\n",
    "CREATE ML_ENGINE google_gemini_engine\n",
    "FROM google_gemini\n",
    "USING\n",
    "      api_key = {API_KEY};\n",
    "\"\"\"\n",
    "\n",
    "mindsdb_query(url=MINDSDB_URL, sql_query=sql_query)"
   ]
  },
  {
   "cell_type": "code",
   "execution_count": null,
   "metadata": {},
   "outputs": [],
   "source": []
  }
 ],
 "metadata": {
  "kernelspec": {
   "display_name": "venv",
   "language": "python",
   "name": "python3"
  },
  "language_info": {
   "codemirror_mode": {
    "name": "ipython",
    "version": 3
   },
   "file_extension": ".py",
   "mimetype": "text/x-python",
   "name": "python",
   "nbconvert_exporter": "python",
   "pygments_lexer": "ipython3",
   "version": "3.13.1"
  }
 },
 "nbformat": 4,
 "nbformat_minor": 2
}
