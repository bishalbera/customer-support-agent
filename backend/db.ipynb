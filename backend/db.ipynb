{
 "cells": [
  {
   "cell_type": "code",
   "execution_count": 1,
   "metadata": {},
   "outputs": [
    {
     "data": {
      "text/plain": [
       "True"
      ]
     },
     "execution_count": 1,
     "metadata": {},
     "output_type": "execute_result"
    }
   ],
   "source": [
    "from dotenv import load_dotenv\n",
    "\n",
    "load_dotenv()"
   ]
  },
  {
   "cell_type": "code",
   "execution_count": null,
   "metadata": {},
   "outputs": [
    {
     "name": "stdout",
     "output_type": "stream",
     "text": [
      "🔄 Migrating table: Album\n",
      "✅ Migration complete for table: Album\n",
      "🔄 Migrating table: Artist\n",
      "✅ Migration complete for table: Artist\n",
      "🔄 Migrating table: Customer\n",
      "✅ Migration complete for table: Customer\n",
      "🔄 Migrating table: Employee\n",
      "✅ Migration complete for table: Employee\n",
      "🔄 Migrating table: Genre\n",
      "✅ Migration complete for table: Genre\n",
      "🔄 Migrating table: Invoice\n",
      "✅ Migration complete for table: Invoice\n",
      "🔄 Migrating table: InvoiceLine\n",
      "✅ Migration complete for table: InvoiceLine\n",
      "🔄 Migrating table: MediaType\n",
      "✅ Migration complete for table: MediaType\n",
      "🔄 Migrating table: Playlist\n",
      "✅ Migration complete for table: Playlist\n",
      "🔄 Migrating table: PlaylistTrack\n",
      "✅ Migration complete for table: PlaylistTrack\n",
      "🔄 Migrating table: Track\n",
      "✅ Migration complete for table: Track\n",
      "🎉 Migration Completed Successfully!\n"
     ]
    }
   ],
   "source": [
    "import os\n",
    "import sqlite3\n",
    "import psycopg2\n",
    "from psycopg2.extras import execute_batch\n",
    "\n",
    "\n",
    "sqlite_conn = sqlite3.connect(\"music_store.db\")\n",
    "sqlite_cursor = sqlite_conn.cursor()\n",
    "\n",
    "pg_conn = psycopg2.connect(\n",
    "    dbname=os.environ[\"DB_NAME\"],\n",
    "    user=os.environ[\"DB_USER\"],\n",
    "    password=os.environ[\"DB_PASSWORD\"],\n",
    "    host=os.environ[\"DB_HOST\"],\n",
    "    port=os.environ[\"DB_PORT\"]\n",
    ")\n",
    "pg_cursor = pg_conn.cursor()\n",
    "\n",
    "sqlite_cursor.execute(\"SELECT name FROM sqlite_master WHERE type='table';\")\n",
    "tables = [table[0] for table in sqlite_cursor.fetchall()]\n",
    "\n",
    "for table_name in tables:\n",
    "    print(f\"🔄 Migrating table: {table_name}\")\n",
    "\n",
    "    sqlite_cursor.execute(f\"PRAGMA table_info({table_name});\")\n",
    "    columns = sqlite_cursor.fetchall()\n",
    "    column_names = [column[1] for column in columns]\n",
    "\n",
    "    create_table_query = f\"CREATE TABLE IF NOT EXISTS {table_name} (\"\n",
    "    create_table_query += \", \".join(\n",
    "        f\"{column[1]} {column[2].replace('NVARCHAR', 'VARCHAR').replace('DATETIME', 'TIMESTAMP')}\"\n",
    "        for column in columns\n",
    "    )\n",
    "    create_table_query += \");\"\n",
    "    \n",
    "    pg_cursor.execute(create_table_query)\n",
    "\n",
    "    sqlite_cursor.execute(f\"SELECT * FROM {table_name};\")\n",
    "    rows = sqlite_cursor.fetchall()\n",
    "\n",
    "    if rows:\n",
    "        placeholders = \", \".join([\"%s\"] * len(column_names))\n",
    "        insert_query = f\"INSERT INTO {table_name} ({', '.join(column_names)}) VALUES ({placeholders})\"\n",
    "        \n",
    "        execute_batch(pg_cursor, insert_query, rows, page_size=500) \n",
    "\n",
    "    print(f\"✅ Migration complete for table: {table_name}\")\n",
    "\n",
    "pg_conn.commit()\n",
    "pg_cursor.close()\n",
    "pg_conn.close()\n",
    "sqlite_cursor.close()\n",
    "sqlite_conn.close()\n",
    "\n",
    "print(\" Migration Completed Successfully!\")\n"
   ]
  }
 ],
 "metadata": {
  "kernelspec": {
   "display_name": "venv",
   "language": "python",
   "name": "python3"
  },
  "language_info": {
   "codemirror_mode": {
    "name": "ipython",
    "version": 3
   },
   "file_extension": ".py",
   "mimetype": "text/x-python",
   "name": "python",
   "nbconvert_exporter": "python",
   "pygments_lexer": "ipython3",
   "version": "3.13.1"
  }
 },
 "nbformat": 4,
 "nbformat_minor": 2
}
